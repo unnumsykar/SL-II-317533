{
 "cells": [
  {
   "cell_type": "code",
   "execution_count": 79,
   "id": "54790f52",
   "metadata": {},
   "outputs": [],
   "source": [
    "import numpy as np"
   ]
  },
  {
   "cell_type": "code",
   "execution_count": 80,
   "id": "b36fceb7",
   "metadata": {},
   "outputs": [],
   "source": [
    "def mcculloch_pitts_neuron(inputs, weights):\n",
    "    activation = np.sum(inputs * weights)\n",
    "    if activation >= 0:\n",
    "        return 1\n",
    "    else:\n",
    "        return 0"
   ]
  },
  {
   "cell_type": "code",
   "execution_count": 123,
   "id": "6d25564e",
   "metadata": {},
   "outputs": [],
   "source": [
    "def andnot(x1, x2):\n",
    "    weights = np.array([2, -3])  # Weights for AND and NOT operations\n",
    "    inputs = np.array([x1, x2])\n",
    "    return mcculloch_pitts_neuron(inputs, weights)\n"
   ]
  },
  {
   "cell_type": "code",
   "execution_count": 124,
   "id": "475766f5",
   "metadata": {},
   "outputs": [
    {
     "name": "stdout",
     "output_type": "stream",
     "text": [
      "1\n",
      "0\n",
      "1\n",
      "0\n"
     ]
    }
   ],
   "source": [
    "# Testing the ANDNOT function\n",
    "print(andnot(0, 0))  # Output: 0\n",
    "print(andnot(0, 1))  # Output: 0\n",
    "print(andnot(1, 0))  # Output: 1\n",
    "print(andnot(1, 1))  # Output: 0"
   ]
  },
  {
   "cell_type": "code",
   "execution_count": null,
   "id": "6934d89a",
   "metadata": {},
   "outputs": [],
   "source": []
  }
 ],
 "metadata": {
  "kernelspec": {
   "display_name": "Python 3 (ipykernel)",
   "language": "python",
   "name": "python3"
  },
  "language_info": {
   "codemirror_mode": {
    "name": "ipython",
    "version": 3
   },
   "file_extension": ".py",
   "mimetype": "text/x-python",
   "name": "python",
   "nbconvert_exporter": "python",
   "pygments_lexer": "ipython3",
   "version": "3.9.6"
  }
 },
 "nbformat": 4,
 "nbformat_minor": 5
}
