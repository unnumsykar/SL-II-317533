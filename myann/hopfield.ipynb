{
 "cells": [
  {
   "cell_type": "code",
   "execution_count": 1,
   "id": "a1ed0a21",
   "metadata": {},
   "outputs": [],
   "source": [
    "import numpy as np"
   ]
  },
  {
   "cell_type": "code",
   "execution_count": 2,
   "id": "66775134",
   "metadata": {},
   "outputs": [],
   "source": [
    "def train_hopfield_network(patterns):\n",
    "    num_patterns = len(patterns)\n",
    "    num_neurons = len(patterns[0])\n",
    "    \n",
    "    weights = np.zeros((num_neurons, num_neurons))\n",
    "    \n",
    "    for pattern in patterns:\n",
    "        pattern = pattern.reshape((num_neurons, 1))\n",
    "        weights += pattern @ pattern.T\n",
    "        \n",
    "    np.fill_diagonal(weights, 0)\n",
    "    \n",
    "    return weights"
   ]
  },
  {
   "cell_type": "code",
   "execution_count": 3,
   "id": "d842e40d",
   "metadata": {},
   "outputs": [],
   "source": [
    "def recall_hopfield_network(weights, initial_state, num_iterations=10):\n",
    "    num_neurons = len(weights)\n",
    "    state = initial_state.copy()\n",
    "    \n",
    "    for _ in range(num_iterations):\n",
    "        for i in range(num_neurons):\n",
    "            activation = weights[i] @ state\n",
    "            state[i] = np.sign(activation)\n",
    "    \n",
    "    return state"
   ]
  },
  {
   "cell_type": "code",
   "execution_count": 4,
   "id": "e993187b",
   "metadata": {},
   "outputs": [],
   "source": [
    "\n",
    "# Define the 4 vectors to be stored\n",
    "patterns = [\n",
    "    np.array([1, 1, 1, -1]),\n",
    "    np.array([-1, -1, -1, 1]),\n",
    "    np.array([1, -1, 1, -1]),\n",
    "    np.array([-1, 1, -1, 1])\n",
    "]"
   ]
  },
  {
   "cell_type": "code",
   "execution_count": 5,
   "id": "3e5c1d7a",
   "metadata": {},
   "outputs": [],
   "source": [
    "# Train the Hopfield Network\n",
    "weights = train_hopfield_network(patterns)"
   ]
  },
  {
   "cell_type": "code",
   "execution_count": 6,
   "id": "79288cf1",
   "metadata": {},
   "outputs": [],
   "source": [
    "# Test the Hopfield Network\n",
    "test_vector = np.array([1, 1, 1, 1])\n",
    "retrieved_pattern = recall_hopfield_network(weights, test_vector)"
   ]
  },
  {
   "cell_type": "code",
   "execution_count": 7,
   "id": "284246de",
   "metadata": {},
   "outputs": [
    {
     "name": "stdout",
     "output_type": "stream",
     "text": [
      "Retrieved Pattern:\n",
      "[-1  0 -1  1]\n"
     ]
    }
   ],
   "source": [
    "print(\"Retrieved Pattern:\")\n",
    "print(retrieved_pattern)"
   ]
  },
  {
   "cell_type": "code",
   "execution_count": null,
   "id": "ef8ce01f",
   "metadata": {},
   "outputs": [],
   "source": []
  }
 ],
 "metadata": {
  "kernelspec": {
   "display_name": "Python 3 (ipykernel)",
   "language": "python",
   "name": "python3"
  },
  "language_info": {
   "codemirror_mode": {
    "name": "ipython",
    "version": 3
   },
   "file_extension": ".py",
   "mimetype": "text/x-python",
   "name": "python",
   "nbconvert_exporter": "python",
   "pygments_lexer": "ipython3",
   "version": "3.9.6"
  }
 },
 "nbformat": 4,
 "nbformat_minor": 5
}
