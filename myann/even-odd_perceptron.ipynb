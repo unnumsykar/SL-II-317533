{
 "cells": [
  {
   "cell_type": "code",
   "execution_count": 1,
   "id": "736666bb",
   "metadata": {},
   "outputs": [],
   "source": [
    "import numpy as np"
   ]
  },
  {
   "cell_type": "code",
   "execution_count": 2,
   "id": "91e25b49",
   "metadata": {},
   "outputs": [],
   "source": [
    "\n",
    "# Define the training data\n",
    "training_data = [\n",
    "    (48, 0),  # ASCII representation of '0' is even (0)\n",
    "    (49, 1),  # ASCII representation of '1' is odd (1)\n",
    "    (50, 0),  # ASCII representation of '2' is even (0)\n",
    "    # Add more training data for other digits here\n",
    "]"
   ]
  },
  {
   "cell_type": "code",
   "execution_count": 5,
   "id": "19f7c4d3",
   "metadata": {},
   "outputs": [],
   "source": [
    "# Initialize the weights and bias\n",
    "weights = np.zeros(8)  # Adjusted to match the length of the binary representation\n",
    "bias = 0"
   ]
  },
  {
   "cell_type": "code",
   "execution_count": 10,
   "id": "4bdd6d72",
   "metadata": {},
   "outputs": [],
   "source": [
    "# Train the perceptron\n",
    "for _ in range(10):\n",
    "    for x, label in training_data:\n",
    "        binary_rep = np.unpackbits(np.array([x], dtype=np.uint8))\n",
    "        y = np.sum(binary_rep)  # Convert ASCII to binary and sum the bits\n",
    "        y = 1 if y % 2 == 0 else 0  # Label 1 for even, 0 for odd\n",
    "        \n",
    "        # Update weights and bias based on the perceptron learning rule\n",
    "        activation = np.dot(weights, binary_rep) + bias\n",
    "        prediction = 1 if activation >= 0 else 0\n",
    "        weights += (y - prediction) * binary_rep\n",
    "        bias += (y - prediction)\n"
   ]
  },
  {
   "cell_type": "code",
   "execution_count": 11,
   "id": "a25a20fb",
   "metadata": {},
   "outputs": [
    {
     "name": "stdout",
     "output_type": "stream",
     "text": [
      "Input: 48, Label: 1, Prediction: 1\n",
      "Input: 49, Label: 0, Prediction: 0\n",
      "Input: 50, Label: 0, Prediction: 0\n"
     ]
    }
   ],
   "source": [
    "# Test the perceptron\n",
    "test_data = [48, 49, 50]  # ASCII representations of '0', '1', and '2'\n",
    "for x in test_data:\n",
    "    binary_rep = np.unpackbits(np.array([x], dtype=np.uint8))\n",
    "    y = np.sum(binary_rep)  # Convert ASCII to binary and sum the bits\n",
    "    y = 1 if y % 2 == 0 else 0  # Label 1 for even, 0 for odd\n",
    "    \n",
    "    activation = np.dot(weights, binary_rep) + bias\n",
    "    prediction = 1 if activation >= 0 else 0\n",
    "    \n",
    "    print(f\"Input: {x}, Label: {y}, Prediction: {prediction}\")"
   ]
  },
  {
   "cell_type": "code",
   "execution_count": null,
   "id": "6580b177",
   "metadata": {},
   "outputs": [],
   "source": []
  }
 ],
 "metadata": {
  "kernelspec": {
   "display_name": "Python 3 (ipykernel)",
   "language": "python",
   "name": "python3"
  },
  "language_info": {
   "codemirror_mode": {
    "name": "ipython",
    "version": 3
   },
   "file_extension": ".py",
   "mimetype": "text/x-python",
   "name": "python",
   "nbconvert_exporter": "python",
   "pygments_lexer": "ipython3",
   "version": "3.9.6"
  }
 },
 "nbformat": 4,
 "nbformat_minor": 5
}
