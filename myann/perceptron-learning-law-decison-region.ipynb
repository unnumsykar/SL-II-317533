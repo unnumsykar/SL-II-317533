{
 "cells": [
  {
   "cell_type": "code",
   "execution_count": 1,
   "id": "1991ad8e",
   "metadata": {},
   "outputs": [],
   "source": [
    "import numpy as np\n",
    "import matplotlib.pyplot as plt"
   ]
  },
  {
   "cell_type": "code",
   "execution_count": 2,
   "id": "69f9c2d0",
   "metadata": {},
   "outputs": [],
   "source": [
    "# Define the training data\n",
    "X = np.array([\n",
    "    [2, 4],\n",
    "    [4, 2],\n",
    "    [4, 4],\n",
    "    [3, 1],\n",
    "    [1, 3],\n",
    "    [2, 2]\n",
    "])\n",
    "\n",
    "Y = np.array([-1, -1, -1, 1, 1, 1])"
   ]
  },
  {
   "cell_type": "code",
   "execution_count": 3,
   "id": "ec27ae2c",
   "metadata": {},
   "outputs": [],
   "source": [
    "# Initialize the weights and bias\n",
    "weights = np.zeros(X.shape[1])\n",
    "bias = 0"
   ]
  },
  {
   "cell_type": "code",
   "execution_count": 4,
   "id": "4c388cbc",
   "metadata": {},
   "outputs": [],
   "source": [
    "# Train the perceptron\n",
    "epochs = 10\n",
    "for _ in range(epochs):\n",
    "    for x, y in zip(X, Y):\n",
    "        activation = np.dot(weights, x) + bias\n",
    "        prediction = np.sign(activation)\n",
    "        \n",
    "        if prediction != y:\n",
    "            weights += y * x\n",
    "            bias += y"
   ]
  },
  {
   "cell_type": "code",
   "execution_count": 5,
   "id": "53f5633b",
   "metadata": {},
   "outputs": [
    {
     "data": {
      "image/png": "[encoded data removed]",
      "text/plain": [
       "<Figure size 432x288 with 1 Axes>"
      ]
     },
     "metadata": {
      "needs_background": "light"
     },
     "output_type": "display_data"
    }
   ],
   "source": [
    "# Plot the training data and decision boundary\n",
    "plt.scatter(X[:, 0], X[:, 1], c=Y, cmap='bwr', edgecolors='k')\n",
    "x1_min, x1_max = X[:, 0].min() - 1, X[:, 0].max() + 1\n",
    "x2_min, x2_max = X[:, 1].min() - 1, X[:, 1].max() + 1\n",
    "xx1, xx2 = np.meshgrid(np.arange(x1_min, x1_max, 0.02),\n",
    "                       np.arange(x2_min, x2_max, 0.02))\n",
    "Z = np.sign(np.dot(np.c_[xx1.ravel(), xx2.ravel()], weights) + bias)\n",
    "Z = Z.reshape(xx1.shape)\n",
    "plt.contourf(xx1, xx2, Z, alpha=0.3, cmap='bwr')\n",
    "plt.xlabel('X1')\n",
    "plt.ylabel('X2')\n",
    "plt.title('Perceptron Decision Regions')\n",
    "plt.show()"
   ]
  },
  {
   "cell_type": "code",
   "execution_count": null,
   "id": "bbc3ab4e",
   "metadata": {},
   "outputs": [],
   "source": []
  }
 ],
 "metadata": {
  "kernelspec": {
   "display_name": "Python 3 (ipykernel)",
   "language": "python",
   "name": "python3"
  },
  "language_info": {
   "codemirror_mode": {
    "name": "ipython",
    "version": 3
   },
   "file_extension": ".py",
   "mimetype": "text/x-python",
   "name": "python",
   "nbconvert_exporter": "python",
   "pygments_lexer": "ipython3",
   "version": "3.9.6"
  }
 },
 "nbformat": 4,
 "nbformat_minor": 5
}
