{
 "cells": [
  {
   "cell_type": "code",
   "execution_count": 53,
   "id": "7dd4e4f2",
   "metadata": {},
   "outputs": [],
   "source": [
    "import numpy as np"
   ]
  },
  {
   "cell_type": "code",
   "execution_count": 54,
   "id": "7123eb87",
   "metadata": {},
   "outputs": [],
   "source": [
    "def create_bam():\n",
    "    bam = np.zeros((4, 4))\n",
    "    return bam\n",
    "\n",
    "def train_bam(bam, X, Y):\n",
    "    for i in range(len(X)):\n",
    "        x = np.reshape(X[i], (1, -1))\n",
    "        y = np.reshape(Y[i], (1, -1))\n",
    "        bam += np.dot(x.T, y)\n",
    "    \n",
    "def recall_bam(bam, X):\n",
    "    Y = []\n",
    "    for i in range(len(X)):\n",
    "        x = np.reshape(X[i], (1, -1))\n",
    "        y = np.dot(x, bam)\n",
    "        y[y >= 0] = 1\n",
    "        y[y < 0] = -1\n",
    "        Y.append(y)\n",
    "    return np.array(Y)\n"
   ]
  },
  {
   "cell_type": "code",
   "execution_count": 55,
   "id": "59cc96e8",
   "metadata": {},
   "outputs": [],
   "source": [
    "# Example usage\n",
    "X = np.array([[1, 1, -1, -1], [-1, -1, 1, 1]])  # Input vectors\n",
    "Y = np.array([[1, -1, 1, -1], [-1, 1, -1, 1]])  # Output vectors"
   ]
  },
  {
   "cell_type": "code",
   "execution_count": 56,
   "id": "e08414fa",
   "metadata": {},
   "outputs": [],
   "source": [
    "bam = create_bam()\n",
    "train_bam(bam, X, Y)"
   ]
  },
  {
   "cell_type": "code",
   "execution_count": 57,
   "id": "53f4a066",
   "metadata": {},
   "outputs": [
    {
     "name": "stdout",
     "output_type": "stream",
     "text": [
      "Output: [[[ 1. -1.  1. -1.]]]\n"
     ]
    }
   ],
   "source": [
    "# Test recall\n",
    "test_X = np.array([[1, 1, -1, -1]])\n",
    "output = recall_bam(bam, test_X)\n",
    "print(\"Output:\", output)"
   ]
  },
  {
   "cell_type": "code",
   "execution_count": null,
   "id": "9f03834e",
   "metadata": {},
   "outputs": [],
   "source": []
  }
 ],
 "metadata": {
  "kernelspec": {
   "display_name": "Python 3 (ipykernel)",
   "language": "python",
   "name": "python3"
  },
  "language_info": {
   "codemirror_mode": {
    "name": "ipython",
    "version": 3
   },
   "file_extension": ".py",
   "mimetype": "text/x-python",
   "name": "python",
   "nbconvert_exporter": "python",
   "pygments_lexer": "ipython3",
   "version": "3.9.6"
  }
 },
 "nbformat": 4,
 "nbformat_minor": 5
}
