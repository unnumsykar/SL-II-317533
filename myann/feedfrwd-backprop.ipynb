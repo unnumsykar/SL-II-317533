{
 "cells": [
  {
   "cell_type": "code",
   "execution_count": 1,
   "id": "109b4717",
   "metadata": {},
   "outputs": [],
   "source": [
    "import numpy as np"
   ]
  },
  {
   "cell_type": "code",
   "execution_count": 2,
   "id": "aa662f73",
   "metadata": {},
   "outputs": [],
   "source": [
    "class NeuralNetwork:\n",
    "    def __init__(self, layers):\n",
    "        self.weights = [np.random.randn(x, y) for x, y in zip(layers[:-1], layers[1:])]\n",
    "        self.biases = [np.random.randn(1, y) for y in layers[1:]]\n",
    "\n",
    "    def forward_propagation(self, a):\n",
    "        for w, b in zip(self.weights, self.biases):\n",
    "            a = self.activation(np.dot(a, w) + b)\n",
    "        return a\n",
    "\n",
    "    def train(self, X, y, learning_rate, num_iterations):\n",
    "        for i in range(num_iterations):\n",
    "            activations = [X]\n",
    "            for w, b in zip(self.weights, self.biases):\n",
    "                z = np.dot(activations[-1], w) + b\n",
    "                activations.append(self.activation(z))\n",
    "            delta = (activations[-1] - y) * self.activation_derivative(z)\n",
    "            nabla_b = [delta]\n",
    "            nabla_w = [np.dot(activations[-2].T, delta)]\n",
    "            for l in range(2, len(self.weights) + 1):\n",
    "                delta = np.dot(delta, self.weights[-l + 1].T) * self.activation_derivative(z)\n",
    "                nabla_b.append(delta)\n",
    "                nabla_w.append(np.dot(activations[-l - 1].T, delta))\n",
    "            self.weights = [w - learning_rate * nw for w, nw in zip(self.weights, nabla_w[::-1])]\n",
    "            self.biases = [b - learning_rate * nb for b, nb in zip(self.biases, nabla_b[::-1])]\n",
    "            if (i + 1) % 1000 == 0:\n",
    "                cost = 0.5 * np.mean((self.forward_propagation(X) - y) ** 2)\n",
    "                print(f\"Cost after iteration {i + 1}: {cost}\")\n",
    "\n",
    "    def activation(self, z):\n",
    "        return 1 / (1 + np.exp(-z))\n",
    "\n",
    "    def activation_derivative(self, z):\n",
    "        return self.activation(z) * (1 - self.activation(z))"
   ]
  },
  {
   "cell_type": "code",
   "execution_count": 3,
   "id": "4d6d511f",
   "metadata": {},
   "outputs": [],
   "source": [
    "# XOR dataset\n",
    "X = np.array([[0, 0],\n",
    "              [0, 1],\n",
    "              [1, 0],\n",
    "              [1, 1]])\n",
    "\n",
    "y = np.array([[0],\n",
    "              [1],\n",
    "              [1],\n",
    "              [0]])"
   ]
  },
  {
   "cell_type": "code",
   "execution_count": 4,
   "id": "dc4479b1",
   "metadata": {},
   "outputs": [],
   "source": [
    "# Create a neural network with 2 input neurons, 2 hidden neurons, and 1 output neuron\n",
    "nn = NeuralNetwork([2, 2, 1])"
   ]
  },
  {
   "cell_type": "code",
   "execution_count": 5,
   "id": "fa7dd83f",
   "metadata": {},
   "outputs": [
    {
     "name": "stdout",
     "output_type": "stream",
     "text": [
      "Cost after iteration 1000: 0.0032956351184556614\n",
      "Cost after iteration 2000: 0.0015132998199841262\n",
      "Cost after iteration 3000: 0.0009701633959941214\n",
      "Cost after iteration 4000: 0.0007107364701872012\n",
      "Cost after iteration 5000: 0.0005595451329515839\n",
      "Cost after iteration 6000: 0.0004608088423852794\n",
      "Cost after iteration 7000: 0.00039137496094848354\n",
      "Cost after iteration 8000: 0.00033993799315578706\n",
      "Cost after iteration 9000: 0.0003003321524440228\n",
      "Cost after iteration 10000: 0.0002689129732617354\n"
     ]
    }
   ],
   "source": [
    "\n",
    "# Train the neural network\n",
    "nn.train(X, y, learning_rate=0.1, num_iterations=10000)\n"
   ]
  },
  {
   "cell_type": "code",
   "execution_count": 6,
   "id": "08d43822",
   "metadata": {},
   "outputs": [
    {
     "name": "stdout",
     "output_type": "stream",
     "text": [
      "\n",
      "Output after training:\n",
      "[[0.]\n",
      " [1.]\n",
      " [1.]\n",
      " [0.]]\n"
     ]
    }
   ],
   "source": [
    "# Test the neural network\n",
    "output = nn.forward_propagation(X)\n",
    "print(\"\\nOutput after training:\")\n",
    "print(output.round())"
   ]
  },
  {
   "cell_type": "code",
   "execution_count": null,
   "id": "b6b6d8b4",
   "metadata": {},
   "outputs": [],
   "source": []
  }
 ],
 "metadata": {
  "kernelspec": {
   "display_name": "Python 3 (ipykernel)",
   "language": "python",
   "name": "python3"
  },
  "language_info": {
   "codemirror_mode": {
    "name": "ipython",
    "version": 3
   },
   "file_extension": ".py",
   "mimetype": "text/x-python",
   "name": "python",
   "nbconvert_exporter": "python",
   "pygments_lexer": "ipython3",
   "version": "3.9.6"
  }
 },
 "nbformat": 4,
 "nbformat_minor": 5
}
