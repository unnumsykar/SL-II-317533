{
 "cells": [
  {
   "cell_type": "code",
   "execution_count": 2,
   "id": "3d0bc1e9",
   "metadata": {},
   "outputs": [],
   "source": [
    "import numpy as np"
   ]
  },
  {
   "cell_type": "code",
   "execution_count": 3,
   "id": "4abd9d36",
   "metadata": {},
   "outputs": [],
   "source": [
    "def art1(input_pattern, vigilance):\n",
    "    # Parameters\n",
    "    n = len(input_pattern)\n",
    "    m = 2 * n\n",
    "\n",
    "    # Initialize weights\n",
    "    weights = np.ones((m, n))\n",
    "\n",
    "    while True:\n",
    "        # Calculate activation\n",
    "        activation = np.dot(weights, input_pattern)\n",
    "\n",
    "        # Find the winning category\n",
    "        winning_category = np.argmax(activation)\n",
    "\n",
    "        # Check if the winning category meets the vigilance criterion\n",
    "        match = np.dot(weights[winning_category], input_pattern) / np.sum(input_pattern)\n",
    "\n",
    "        if match >= vigilance:\n",
    "            return winning_category\n",
    "\n",
    "        # Otherwise, create a new category\n",
    "        new_category = np.random.randint(m)\n",
    "        weights[new_category] = input_pattern"
   ]
  },
  {
   "cell_type": "code",
   "execution_count": 4,
   "id": "1d82b6ff",
   "metadata": {},
   "outputs": [],
   "source": [
    "# Input patterns\n",
    "patterns = [\n",
    "    [1, 0, 0, 0, 0, 0, 0, 0, 0, 0],\n",
    "    [0, 1, 0, 0, 0, 0, 0, 0, 0, 0],\n",
    "    [0, 0, 1, 0, 0, 0, 0, 0, 0, 0],\n",
    "    [0, 0, 0, 1, 0, 0, 0, 0, 0, 0],\n",
    "    [0, 0, 0, 0, 1, 0, 0, 0, 0, 0],\n",
    "    [0, 0, 0, 0, 0, 1, 0, 0, 0, 0],\n",
    "    [0, 0, 0, 0, 0, 0, 1, 0, 0, 0],\n",
    "    [0, 0, 0, 0, 0, 0, 0, 1, 0, 0],\n",
    "    [0, 0, 0, 0, 0, 0, 0, 0, 1, 0],\n",
    "    [0, 0, 0, 0, 0, 0, 0, 0, 0, 1]\n",
    "]"
   ]
  },
  {
   "cell_type": "code",
   "execution_count": 5,
   "id": "4d83f7f9",
   "metadata": {},
   "outputs": [],
   "source": [
    "# Test pattern\n",
    "test_pattern = [1, 0, 0, 0, 0, 0, 0, 0, 0, 0]"
   ]
  },
  {
   "cell_type": "code",
   "execution_count": 6,
   "id": "f6716914",
   "metadata": {},
   "outputs": [],
   "source": [
    "# Vigilance parameter\n",
    "vigilance = 0.9"
   ]
  },
  {
   "cell_type": "code",
   "execution_count": 7,
   "id": "2cea1db3",
   "metadata": {},
   "outputs": [],
   "source": [
    "# Train and test the network\n",
    "category = art1(test_pattern, vigilance)"
   ]
  },
  {
   "cell_type": "code",
   "execution_count": 8,
   "id": "46681a2d",
   "metadata": {},
   "outputs": [
    {
     "name": "stdout",
     "output_type": "stream",
     "text": [
      "Test pattern: [1, 0, 0, 0, 0, 0, 0, 0, 0, 0]\n",
      "Category: 0\n"
     ]
    }
   ],
   "source": [
    "# Print the result\n",
    "print(\"Test pattern:\", test_pattern)\n",
    "print(\"Category:\", category)"
   ]
  },
  {
   "cell_type": "code",
   "execution_count": null,
   "id": "43c86579",
   "metadata": {},
   "outputs": [],
   "source": []
  }
 ],
 "metadata": {
  "kernelspec": {
   "display_name": "Python 3 (ipykernel)",
   "language": "python",
   "name": "python3"
  },
  "language_info": {
   "codemirror_mode": {
    "name": "ipython",
    "version": 3
   },
   "file_extension": ".py",
   "mimetype": "text/x-python",
   "name": "python",
   "nbconvert_exporter": "python",
   "pygments_lexer": "ipython3",
   "version": "3.9.6"
  }
 },
 "nbformat": 4,
 "nbformat_minor": 5
}
