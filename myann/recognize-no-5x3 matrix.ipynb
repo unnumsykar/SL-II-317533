{
 "cells": [
  {
   "cell_type": "code",
   "execution_count": 1,
   "id": "b5c2b6e1",
   "metadata": {},
   "outputs": [],
   "source": [
    "import tensorflow as tf\n",
    "import numpy as np"
   ]
  },
  {
   "cell_type": "code",
   "execution_count": 2,
   "id": "98f87383",
   "metadata": {},
   "outputs": [],
   "source": [
    "# Define training data\n",
    "train_data = {\n",
    "    0: np.array([[1, 1, 1], [1, 0, 1], [1, 0, 1], [1, 0, 1], [1, 1, 1]]),\n",
    "    1: np.array([[0, 1, 0], [0, 1, 0], [0, 1, 0], [0, 1, 0], [0, 1, 0]]),\n",
    "    2: np.array([[1, 1, 1], [0, 0, 1], [1, 1, 1], [1, 0, 0], [1, 1, 1]]),\n",
    "    3: np.array([[1, 1, 1], [0, 0, 1], [1, 1, 1], [0, 0, 1], [1, 1, 1]]),\n",
    "    4: np.array([[1, 0, 1], [1, 0, 1], [1, 1, 1], [0, 0, 1], [0, 0, 1]]),\n",
    "    5: np.array([[1, 1, 1], [1, 0, 0], [1, 1, 1], [0, 0, 1], [1, 1, 1]]),\n",
    "    6: np.array([[1, 1, 1], [1, 0, 0], [1, 1, 1], [1, 0, 1], [1, 1, 1]]),\n",
    "    7: np.array([[1, 1, 1], [0, 0, 1], [0, 0, 1], [0, 0, 1], [0, 0, 1]]),\n",
    "    8: np.array([[1, 1, 1], [1, 0, 1], [1, 1, 1], [1, 0, 1], [1, 1, 1]]),\n",
    "    9: np.array([[1, 1, 1], [1, 0, 1], [1, 1, 1], [0, 0, 1], [0, 0, 1]])\n",
    "}"
   ]
  },
  {
   "cell_type": "code",
   "execution_count": 3,
   "id": "4064ef32",
   "metadata": {},
   "outputs": [],
   "source": [
    "# Prepare training data\n",
    "x_train = []\n",
    "y_train = []\n",
    "for digit, matrix in train_data.items():\n",
    "    x_train.append(matrix.flatten())\n",
    "    y_train.append(digit)\n",
    "\n",
    "x_train = np.array(x_train)\n",
    "y_train = np.array(y_train)"
   ]
  },
  {
   "cell_type": "code",
   "execution_count": 4,
   "id": "0c10f110",
   "metadata": {},
   "outputs": [],
   "source": [
    "# Define the model architecture\n",
    "model = tf.keras.models.Sequential([\n",
    "    tf.keras.layers.Dense(64, activation='relu', input_shape=(15,)),\n",
    "    tf.keras.layers.Dense(64, activation='relu'),\n",
    "    tf.keras.layers.Dense(10, activation='softmax')\n",
    "])\n"
   ]
  },
  {
   "cell_type": "code",
   "execution_count": 5,
   "id": "4b6e5b77",
   "metadata": {},
   "outputs": [],
   "source": [
    "# Compile the model\n",
    "model.compile(optimizer='adam', loss='sparse_categorical_crossentropy', metrics=['accuracy'])\n"
   ]
  },
  {
   "cell_type": "code",
   "execution_count": 10,
   "id": "4cb1f8d7",
   "metadata": {},
   "outputs": [
    {
     "name": "stdout",
     "output_type": "stream",
     "text": [
      "Epoch 1/25\n",
      "1/1 [==============================] - 0s 16ms/step - loss: 2.1061 - accuracy: 0.5000\n",
      "Epoch 2/25\n",
      "1/1 [==============================] - 0s 4ms/step - loss: 2.0855 - accuracy: 0.5000\n",
      "Epoch 3/25\n",
      "1/1 [==============================] - 0s 0s/step - loss: 2.0647 - accuracy: 0.5000\n",
      "Epoch 4/25\n",
      "1/1 [==============================] - 0s 4ms/step - loss: 2.0436 - accuracy: 0.5000\n",
      "Epoch 5/25\n",
      "1/1 [==============================] - 0s 0s/step - loss: 2.0221 - accuracy: 0.5000\n",
      "Epoch 6/25\n",
      "1/1 [==============================] - 0s 11ms/step - loss: 2.0012 - accuracy: 0.5000\n",
      "Epoch 7/25\n",
      "1/1 [==============================] - 0s 3ms/step - loss: 1.9806 - accuracy: 0.4000\n",
      "Epoch 8/25\n",
      "1/1 [==============================] - 0s 0s/step - loss: 1.9595 - accuracy: 0.5000\n",
      "Epoch 9/25\n",
      "1/1 [==============================] - 0s 4ms/step - loss: 1.9386 - accuracy: 0.5000\n",
      "Epoch 10/25\n",
      "1/1 [==============================] - 0s 0s/step - loss: 1.9177 - accuracy: 0.5000\n",
      "Epoch 11/25\n",
      "1/1 [==============================] - 0s 12ms/step - loss: 1.8963 - accuracy: 0.5000\n",
      "Epoch 12/25\n",
      "1/1 [==============================] - 0s 3ms/step - loss: 1.8746 - accuracy: 0.6000\n",
      "Epoch 13/25\n",
      "1/1 [==============================] - 0s 0s/step - loss: 1.8526 - accuracy: 0.6000\n",
      "Epoch 14/25\n",
      "1/1 [==============================] - 0s 4ms/step - loss: 1.8307 - accuracy: 0.8000\n",
      "Epoch 15/25\n",
      "1/1 [==============================] - 0s 0s/step - loss: 1.8088 - accuracy: 0.8000\n",
      "Epoch 16/25\n",
      "1/1 [==============================] - 0s 11ms/step - loss: 1.7867 - accuracy: 0.8000\n",
      "Epoch 17/25\n",
      "1/1 [==============================] - 0s 3ms/step - loss: 1.7646 - accuracy: 0.8000\n",
      "Epoch 18/25\n",
      "1/1 [==============================] - 0s 0s/step - loss: 1.7424 - accuracy: 0.8000\n",
      "Epoch 19/25\n",
      "1/1 [==============================] - 0s 15ms/step - loss: 1.7193 - accuracy: 0.8000\n",
      "Epoch 20/25\n",
      "1/1 [==============================] - 0s 0s/step - loss: 1.6962 - accuracy: 0.9000\n",
      "Epoch 21/25\n",
      "1/1 [==============================] - 0s 10ms/step - loss: 1.6726 - accuracy: 0.9000\n",
      "Epoch 22/25\n",
      "1/1 [==============================] - 0s 4ms/step - loss: 1.6488 - accuracy: 1.0000\n",
      "Epoch 23/25\n",
      "1/1 [==============================] - 0s 0s/step - loss: 1.6244 - accuracy: 1.0000\n",
      "Epoch 24/25\n",
      "1/1 [==============================] - 0s 13ms/step - loss: 1.6001 - accuracy: 1.0000\n",
      "Epoch 25/25\n",
      "1/1 [==============================] - 0s 3ms/step - loss: 1.5757 - accuracy: 1.0000\n"
     ]
    },
    {
     "data": {
      "text/plain": [
       "<keras.callbacks.History at 0x1eaa0c06850>"
      ]
     },
     "execution_count": 10,
     "metadata": {},
     "output_type": "execute_result"
    }
   ],
   "source": [
    "# Train the model\n",
    "model.fit(x_train, y_train, epochs=25)"
   ]
  },
  {
   "cell_type": "code",
   "execution_count": 11,
   "id": "93b9484b",
   "metadata": {},
   "outputs": [],
   "source": [
    "# Test the model\n",
    "test_data = {\n",
    "    0: np.array([[1, 1, 1], [1, 0, 1], [1, 0, 1], [1, 0, 1], [1, 1, 1]]),\n",
    "    1: np.array([[0, 1, 0], [0, 1, 0], [0, 1, 0], [0, 1, 0], [0, 1, 0]]),\n",
    "    2: np.array([[1, 1, 1], [0, 0, 1], [1, 1, 1], [1, 0, 0], [1, 1, 1]]),\n",
    "    3: np.array([[1, 1, 1], [0, 0, 1], [1, 1, 1], [0, 0, 1], [1, 1, 1]]),\n",
    "    4: np.array([[1, 0, 1], [1, 0, 1], [1, 1, 1], [0, 0, 1], [0, 0, 1]]),\n",
    "    5: np.array([[1, 1, 1], [1, 0, 0], [1, 1, 1], [0, 0, 1], [1, 1, 1]]),\n",
    "    6: np.array([[1, 1, 1], [1, 0, 0], [1, 1, 1], [1, 0, 1], [1, 1, 1]]),\n",
    "    7: np.array([[1, 1, 1], [0, 0, 1], [0, 0, 1], [0, 0, 1], [0, 0, 1]]),\n",
    "    8: np.array([[1, 1, 1], [1, 0, 1], [1, 1, 1], [1, 0, 1], [1, 1, 1]]),\n",
    "    9: np.array([[1, 1, 1], [1, 0, 1], [1, 1, 1], [0, 0, 1], [0, 0, 1]])\n",
    "}"
   ]
  },
  {
   "cell_type": "code",
   "execution_count": 12,
   "id": "140de0f1",
   "metadata": {},
   "outputs": [],
   "source": [
    "x_test = []\n",
    "y_test = []\n",
    "for digit, matrix in test_data.items():\n",
    "    x_test.append(matrix.flatten())\n",
    "    y_test.append(digit)\n",
    "\n",
    "x_test = np.array(x_test)\n",
    "y_test = np.array(y_test)"
   ]
  },
  {
   "cell_type": "code",
   "execution_count": 13,
   "id": "53467dbe",
   "metadata": {},
   "outputs": [
    {
     "name": "stdout",
     "output_type": "stream",
     "text": [
      "1/1 [==============================] - 0s 26ms/step - loss: 1.5511 - accuracy: 1.0000\n",
      "Test loss: 1.5511220693588257\n",
      "Test accuracy: 1.0\n"
     ]
    }
   ],
   "source": [
    "# Evaluate the model\n",
    "loss, accuracy = model.evaluate(x_test, y_test)\n",
    "print(f'Test loss: {loss}')\n",
    "print(f'Test accuracy: {accuracy}')"
   ]
  },
  {
   "cell_type": "code",
   "execution_count": null,
   "id": "a251babc",
   "metadata": {},
   "outputs": [],
   "source": []
  }
 ],
 "metadata": {
  "kernelspec": {
   "display_name": "Python 3 (ipykernel)",
   "language": "python",
   "name": "python3"
  },
  "language_info": {
   "codemirror_mode": {
    "name": "ipython",
    "version": 3
   },
   "file_extension": ".py",
   "mimetype": "text/x-python",
   "name": "python",
   "nbconvert_exporter": "python",
   "pygments_lexer": "ipython3",
   "version": "3.9.6"
  }
 },
 "nbformat": 4,
 "nbformat_minor": 5
}
