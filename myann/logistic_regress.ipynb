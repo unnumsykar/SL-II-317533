{
 "cells": [
  {
   "cell_type": "code",
   "execution_count": 1,
   "id": "672a1cc3",
   "metadata": {},
   "outputs": [],
   "source": [
    "import tensorflow as tf\n",
    "from sklearn.datasets import load_iris\n",
    "from sklearn.model_selection import train_test_split\n",
    "from sklearn.preprocessing import StandardScaler"
   ]
  },
  {
   "cell_type": "code",
   "execution_count": 2,
   "id": "d076fa5c",
   "metadata": {},
   "outputs": [],
   "source": [
    "# Load the Iris dataset\n",
    "iris = load_iris()\n",
    "X, y = iris.data, iris.target"
   ]
  },
  {
   "cell_type": "code",
   "execution_count": 3,
   "id": "75d265b2",
   "metadata": {},
   "outputs": [],
   "source": [
    "# Split the dataset into train and test sets\n",
    "X_train, X_test, y_train, y_test = train_test_split(X, y, test_size=0.2, random_state=42)"
   ]
  },
  {
   "cell_type": "code",
   "execution_count": 4,
   "id": "f4ab13fb",
   "metadata": {},
   "outputs": [],
   "source": [
    "# Scale the features using StandardScaler\n",
    "scaler = StandardScaler()\n",
    "X_train = scaler.fit_transform(X_train)\n",
    "X_test = scaler.transform(X_test)"
   ]
  },
  {
   "cell_type": "code",
   "execution_count": 5,
   "id": "d09f699a",
   "metadata": {},
   "outputs": [],
   "source": [
    "# Define the logistic regression model\n",
    "model = tf.keras.models.Sequential([\n",
    "    tf.keras.layers.Dense(3, activation='softmax')\n",
    "])"
   ]
  },
  {
   "cell_type": "code",
   "execution_count": 6,
   "id": "e97ce24b",
   "metadata": {},
   "outputs": [],
   "source": [
    "# Compile the model\n",
    "model.compile(optimizer='adam', loss='sparse_categorical_crossentropy', metrics=['accuracy'])"
   ]
  },
  {
   "cell_type": "code",
   "execution_count": 7,
   "id": "dd6aed7f",
   "metadata": {},
   "outputs": [
    {
     "name": "stdout",
     "output_type": "stream",
     "text": [
      "Epoch 1/50\n",
      "4/4 [==============================] - 1s 5ms/step - loss: 2.1043 - accuracy: 0.1167\n",
      "Epoch 2/50\n",
      "4/4 [==============================] - 0s 5ms/step - loss: 2.0859 - accuracy: 0.1250\n",
      "Epoch 3/50\n",
      "4/4 [==============================] - 0s 5ms/step - loss: 2.0674 - accuracy: 0.1250\n",
      "Epoch 4/50\n",
      "4/4 [==============================] - 0s 3ms/step - loss: 2.0486 - accuracy: 0.1250\n",
      "Epoch 5/50\n",
      "4/4 [==============================] - 0s 6ms/step - loss: 2.0300 - accuracy: 0.1333\n",
      "Epoch 6/50\n",
      "4/4 [==============================] - 0s 5ms/step - loss: 2.0117 - accuracy: 0.1333\n",
      "Epoch 7/50\n",
      "4/4 [==============================] - 0s 7ms/step - loss: 1.9931 - accuracy: 0.1333\n",
      "Epoch 8/50\n",
      "4/4 [==============================] - 0s 4ms/step - loss: 1.9750 - accuracy: 0.1333\n",
      "Epoch 9/50\n",
      "4/4 [==============================] - 0s 4ms/step - loss: 1.9573 - accuracy: 0.1417\n",
      "Epoch 10/50\n",
      "4/4 [==============================] - 0s 4ms/step - loss: 1.9391 - accuracy: 0.1417\n",
      "Epoch 11/50\n",
      "4/4 [==============================] - 0s 6ms/step - loss: 1.9211 - accuracy: 0.1417\n",
      "Epoch 12/50\n",
      "4/4 [==============================] - 0s 6ms/step - loss: 1.9036 - accuracy: 0.1417\n",
      "Epoch 13/50\n",
      "4/4 [==============================] - 0s 5ms/step - loss: 1.8862 - accuracy: 0.1417\n",
      "Epoch 14/50\n",
      "4/4 [==============================] - 0s 4ms/step - loss: 1.8684 - accuracy: 0.1417\n",
      "Epoch 15/50\n",
      "4/4 [==============================] - 0s 6ms/step - loss: 1.8511 - accuracy: 0.1417\n",
      "Epoch 16/50\n",
      "4/4 [==============================] - 0s 5ms/step - loss: 1.8338 - accuracy: 0.1417\n",
      "Epoch 17/50\n",
      "4/4 [==============================] - 0s 5ms/step - loss: 1.8172 - accuracy: 0.1417\n",
      "Epoch 18/50\n",
      "4/4 [==============================] - 0s 3ms/step - loss: 1.8001 - accuracy: 0.1417\n",
      "Epoch 19/50\n",
      "4/4 [==============================] - 0s 6ms/step - loss: 1.7830 - accuracy: 0.1417\n",
      "Epoch 20/50\n",
      "4/4 [==============================] - 0s 5ms/step - loss: 1.7663 - accuracy: 0.1500\n",
      "Epoch 21/50\n",
      "4/4 [==============================] - 0s 3ms/step - loss: 1.7503 - accuracy: 0.1500\n",
      "Epoch 22/50\n",
      "4/4 [==============================] - 0s 5ms/step - loss: 1.7339 - accuracy: 0.1583\n",
      "Epoch 23/50\n",
      "4/4 [==============================] - 0s 2ms/step - loss: 1.7179 - accuracy: 0.1583\n",
      "Epoch 24/50\n",
      "4/4 [==============================] - 0s 3ms/step - loss: 1.7015 - accuracy: 0.1667\n",
      "Epoch 25/50\n",
      "4/4 [==============================] - 0s 4ms/step - loss: 1.6858 - accuracy: 0.1667\n",
      "Epoch 26/50\n",
      "4/4 [==============================] - 0s 6ms/step - loss: 1.6698 - accuracy: 0.1667\n",
      "Epoch 27/50\n",
      "4/4 [==============================] - 0s 3ms/step - loss: 1.6541 - accuracy: 0.1667\n",
      "Epoch 28/50\n",
      "4/4 [==============================] - 0s 5ms/step - loss: 1.6388 - accuracy: 0.1750\n",
      "Epoch 29/50\n",
      "4/4 [==============================] - 0s 5ms/step - loss: 1.6231 - accuracy: 0.1750\n",
      "Epoch 30/50\n",
      "4/4 [==============================] - 0s 6ms/step - loss: 1.6077 - accuracy: 0.1750\n",
      "Epoch 31/50\n",
      "4/4 [==============================] - 0s 3ms/step - loss: 1.5931 - accuracy: 0.1750\n",
      "Epoch 32/50\n",
      "4/4 [==============================] - 0s 5ms/step - loss: 1.5779 - accuracy: 0.1750\n",
      "Epoch 33/50\n",
      "4/4 [==============================] - 0s 3ms/step - loss: 1.5631 - accuracy: 0.1750\n",
      "Epoch 34/50\n",
      "4/4 [==============================] - 0s 3ms/step - loss: 1.5486 - accuracy: 0.1750\n",
      "Epoch 35/50\n",
      "4/4 [==============================] - 0s 3ms/step - loss: 1.5340 - accuracy: 0.1750\n",
      "Epoch 36/50\n",
      "4/4 [==============================] - 0s 3ms/step - loss: 1.5194 - accuracy: 0.1750\n",
      "Epoch 37/50\n",
      "4/4 [==============================] - 0s 4ms/step - loss: 1.5049 - accuracy: 0.1750\n",
      "Epoch 38/50\n",
      "4/4 [==============================] - 0s 4ms/step - loss: 1.4911 - accuracy: 0.1750\n",
      "Epoch 39/50\n",
      "4/4 [==============================] - 0s 2ms/step - loss: 1.4773 - accuracy: 0.1750\n",
      "Epoch 40/50\n",
      "4/4 [==============================] - 0s 3ms/step - loss: 1.4632 - accuracy: 0.1750\n",
      "Epoch 41/50\n",
      "4/4 [==============================] - 0s 6ms/step - loss: 1.4496 - accuracy: 0.1750\n",
      "Epoch 42/50\n",
      "4/4 [==============================] - 0s 2ms/step - loss: 1.4361 - accuracy: 0.1750\n",
      "Epoch 43/50\n",
      "4/4 [==============================] - 0s 6ms/step - loss: 1.4223 - accuracy: 0.1750\n",
      "Epoch 44/50\n",
      "4/4 [==============================] - 0s 6ms/step - loss: 1.4092 - accuracy: 0.1750\n",
      "Epoch 45/50\n",
      "4/4 [==============================] - 0s 6ms/step - loss: 1.3961 - accuracy: 0.1750\n",
      "Epoch 46/50\n",
      "4/4 [==============================] - 0s 3ms/step - loss: 1.3832 - accuracy: 0.1750\n",
      "Epoch 47/50\n",
      "4/4 [==============================] - 0s 3ms/step - loss: 1.3702 - accuracy: 0.1750\n",
      "Epoch 48/50\n",
      "4/4 [==============================] - 0s 2ms/step - loss: 1.3581 - accuracy: 0.1917\n",
      "Epoch 49/50\n",
      "4/4 [==============================] - 0s 4ms/step - loss: 1.3452 - accuracy: 0.1917\n",
      "Epoch 50/50\n",
      "4/4 [==============================] - 0s 6ms/step - loss: 1.3334 - accuracy: 0.1917\n"
     ]
    },
    {
     "data": {
      "text/plain": [
       "<keras.callbacks.History at 0x2107bc52cd0>"
      ]
     },
     "execution_count": 7,
     "metadata": {},
     "output_type": "execute_result"
    }
   ],
   "source": [
    "# Train the model\n",
    "model.fit(X_train, y_train, epochs=50, batch_size=32, verbose=1)"
   ]
  },
  {
   "cell_type": "code",
   "execution_count": 8,
   "id": "90bee8aa",
   "metadata": {},
   "outputs": [
    {
     "name": "stdout",
     "output_type": "stream",
     "text": [
      "1/1 [==============================] - 0s 253ms/step - loss: 1.3145 - accuracy: 0.2000\n",
      "Test Loss: 1.3145482540130615\n",
      "Test Accuracy: 0.20000000298023224\n"
     ]
    }
   ],
   "source": [
    "# Evaluate the model on the test set\n",
    "loss, accuracy = model.evaluate(X_test, y_test)\n",
    "print(\"Test Loss:\", loss)\n",
    "print(\"Test Accuracy:\", accuracy)"
   ]
  },
  {
   "cell_type": "code",
   "execution_count": null,
   "id": "a8e86e9f",
   "metadata": {},
   "outputs": [],
   "source": []
  }
 ],
 "metadata": {
  "kernelspec": {
   "display_name": "Python 3 (ipykernel)",
   "language": "python",
   "name": "python3"
  },
  "language_info": {
   "codemirror_mode": {
    "name": "ipython",
    "version": 3
   },
   "file_extension": ".py",
   "mimetype": "text/x-python",
   "name": "python",
   "nbconvert_exporter": "python",
   "pygments_lexer": "ipython3",
   "version": "3.9.6"
  }
 },
 "nbformat": 4,
 "nbformat_minor": 5
}
