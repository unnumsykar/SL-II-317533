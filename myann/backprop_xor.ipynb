{
 "cells": [
  {
   "cell_type": "code",
   "execution_count": 3,
   "id": "a9bf29b2",
   "metadata": {},
   "outputs": [],
   "source": [
    "import numpy as np\n"
   ]
  },
  {
   "cell_type": "code",
   "execution_count": 4,
   "id": "a5799b5d",
   "metadata": {},
   "outputs": [],
   "source": [
    "# Activation function - sigmoid\n",
    "def sigmoid(x):\n",
    "    return 1 / (1 + np.exp(-x))\n",
    "\n",
    "# Derivative of sigmoid function\n",
    "def sigmoid_derivative(x):\n",
    "    return x * (1 - x)"
   ]
  },
  {
   "cell_type": "code",
   "execution_count": 5,
   "id": "9bc37cd7",
   "metadata": {},
   "outputs": [],
   "source": [
    "# Input dataset\n",
    "X = np.array([[0, 0],\n",
    "              [0, 1],\n",
    "              [1, 0],\n",
    "              [1, 1]])\n",
    "\n",
    "# Output dataset\n",
    "y = np.array([[0],\n",
    "              [1],\n",
    "              [1],\n",
    "              [0]])\n"
   ]
  },
  {
   "cell_type": "code",
   "execution_count": 8,
   "id": "a2c90252",
   "metadata": {},
   "outputs": [],
   "source": [
    "# Seed the random number generator\n",
    "np.random.seed(1)\n"
   ]
  },
  {
   "cell_type": "code",
   "execution_count": 9,
   "id": "9eb996dc",
   "metadata": {},
   "outputs": [],
   "source": [
    "# Initialize weights randomly with mean 0\n",
    "synaptic_weights_0 = 2 * np.random.random((2, 3)) - 1\n",
    "synaptic_weights_1 = 2 * np.random.random((3, 1)) - 1"
   ]
  },
  {
   "cell_type": "code",
   "execution_count": 10,
   "id": "9ae91ce6",
   "metadata": {},
   "outputs": [
    {
     "name": "stdout",
     "output_type": "stream",
     "text": [
      "Error after 0 iterations: 0.4992921119953979\n",
      "Error after 1000 iterations: 0.19475595057720324\n",
      "Error after 2000 iterations: 0.16468388186688157\n",
      "Error after 3000 iterations: 0.15521685830123316\n",
      "Error after 4000 iterations: 0.1502442238087477\n",
      "Error after 5000 iterations: 0.14707854570675657\n",
      "Error after 6000 iterations: 0.14484456674509666\n",
      "Error after 7000 iterations: 0.1431630456319899\n",
      "Error after 8000 iterations: 0.1418401129246834\n",
      "Error after 9000 iterations: 0.14076521389127158\n"
     ]
    }
   ],
   "source": [
    "# Training loop\n",
    "for iteration in range(10000):\n",
    "\n",
    "    # Forward propagation\n",
    "    layer_0 = X\n",
    "    layer_1 = sigmoid(np.dot(layer_0, synaptic_weights_0))\n",
    "    layer_2 = sigmoid(np.dot(layer_1, synaptic_weights_1))\n",
    "\n",
    "    # Calculate the error\n",
    "    layer_2_error = y - layer_2\n",
    "\n",
    "    if iteration % 1000 == 0:\n",
    "        print(\"Error after\", iteration, \"iterations:\", np.mean(np.abs(layer_2_error)))\n",
    "\n",
    "    # Back propagation\n",
    "    layer_2_delta = layer_2_error * sigmoid_derivative(layer_2)\n",
    "    layer_1_error = layer_2_delta.dot(synaptic_weights_1.T)\n",
    "    layer_1_delta = layer_1_error * sigmoid_derivative(layer_1)\n",
    "\n",
    "    # Update weights\n",
    "    synaptic_weights_1 += layer_1.T.dot(layer_2_delta)\n",
    "    synaptic_weights_0 += layer_0.T.dot(layer_1_delta)"
   ]
  },
  {
   "cell_type": "code",
   "execution_count": 11,
   "id": "df0d199c",
   "metadata": {},
   "outputs": [
    {
     "name": "stdout",
     "output_type": "stream",
     "text": [
      "\n",
      "Output after training:\n",
      "[[0.02130418]\n",
      " [0.98114857]\n",
      " [0.98116482]\n",
      " [0.50048996]]\n"
     ]
    }
   ],
   "source": [
    "# Test the network\n",
    "print(\"\\nOutput after training:\")\n",
    "layer_0 = X\n",
    "layer_1 = sigmoid(np.dot(layer_0, synaptic_weights_0))\n",
    "layer_2 = sigmoid(np.dot(layer_1, synaptic_weights_1))\n",
    "print(layer_2)"
   ]
  },
  {
   "cell_type": "code",
   "execution_count": null,
   "id": "b730055e",
   "metadata": {},
   "outputs": [],
   "source": []
  }
 ],
 "metadata": {
  "kernelspec": {
   "display_name": "Python 3 (ipykernel)",
   "language": "python",
   "name": "python3"
  },
  "language_info": {
   "codemirror_mode": {
    "name": "ipython",
    "version": 3
   },
   "file_extension": ".py",
   "mimetype": "text/x-python",
   "name": "python",
   "nbconvert_exporter": "python",
   "pygments_lexer": "ipython3",
   "version": "3.9.6"
  }
 },
 "nbformat": 4,
 "nbformat_minor": 5
}
